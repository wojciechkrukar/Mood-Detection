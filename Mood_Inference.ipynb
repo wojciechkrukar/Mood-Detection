{
 "cells": [
  {
   "cell_type": "code",
   "execution_count": 15,
   "metadata": {},
   "outputs": [
    {
     "name": "stdout",
     "output_type": "stream",
     "text": [
      "Your OpenCV version => 3.4.1\n",
      "Your Keras  version => 2.1.5\n"
     ]
    }
   ],
   "source": [
    "import keras\n",
    "\n",
    "from keras.preprocessing.image import img_to_array\n",
    "from keras.models import load_model\n",
    "\n",
    "import cv2\n",
    "import numpy as np\n",
    "print(\"Your OpenCV version => {}\".format(cv2.__version__))\n",
    "print(\"Your Keras  version => {}\".format(keras.__version__))"
   ]
  },
  {
   "cell_type": "code",
   "execution_count": null,
   "metadata": {},
   "outputs": [],
   "source": [
    "model = load_model('emotion_model.h5')"
   ]
  },
  {
   "cell_type": "code",
   "execution_count": null,
   "metadata": {},
   "outputs": [],
   "source": [
    "moods = {\n",
    "    0: 'ANGRY',\n",
    "    1: 'FEAR',\n",
    "    2: 'HAPPY',\n",
    "    3: 'SAD',\n",
    "    4: 'SURPRISE',\n",
    "    5: 'NEUTRAL'}"
   ]
  },
  {
   "cell_type": "code",
   "execution_count": null,
   "metadata": {},
   "outputs": [],
   "source": [
    "blanc_sq = np.zeros([48,48], dtype=np.uint8)\n"
   ]
  },
  {
   "cell_type": "code",
   "execution_count": null,
   "metadata": {},
   "outputs": [],
   "source": [
    "# Loading the cascades\n",
    "face_cascade = cv2.CascadeClassifier('haarcascade_frontalface_default.xml')\n",
    "# eye_cascade = cv2.CascadeClassifier('haarcascade_eye.xml')\n",
    "# smile_cascade = cv2.CascadeClassifier('haarcascade_smile.xml')\n",
    "\n",
    "# Defining a function that will do the detections\n",
    "def detect(gray, frame):\n",
    "    \n",
    "    \n",
    "    \n",
    "    \n",
    "    #     faces = face_cascade.detectMultiScale(gray, 1.3, 5)\n",
    "    faces = face_cascade.detectMultiScale(gray, scaleFactor=1.1, \n",
    "    minNeighbors=5, minSize=(30, 30),\n",
    "    flags=cv2.CASCADE_SCALE_IMAGE)\n",
    "\n",
    "    if len(faces) > 0:\n",
    "        face = sorted(faces, reverse=True,\n",
    "            key=lambda x: (x[2] - x[0]) * (x[3] - x[1]))[0]\n",
    "        (x, y, w, h) = face\n",
    "\n",
    "        cv2.rectangle(frame, (x, y), (x+w, y+h), (0, 0, 0), 2)\n",
    "        \n",
    "        roi = gray[y:y + h, x:x + w]\n",
    "        roi = cv2.resize(roi, (48, 48)).astype(\"float\") / 255.0\n",
    "        roi = img_to_array(roi)\n",
    "        roi = np.expand_dims(roi, axis=0)\n",
    "\n",
    "    # make a prediction on the ROI, then lookup the class\n",
    "    # label\n",
    "        preds = model.predict(roi)[0]\n",
    "        label = moods[preds.argmax()]\n",
    "        #print(label)\n",
    "        cv2.putText(frame,label, \n",
    "    (int(x), int(y-10)), \n",
    "     cv2.FONT_HERSHEY_SIMPLEX, \n",
    "    .6,\n",
    "    (0,255,0),\n",
    "    2)\n",
    "\n",
    "    return frame\n",
    "\n",
    "\n",
    "video_capture = cv2.VideoCapture(0)\n",
    "while True:\n",
    "    \n",
    "    _, frame = video_capture.read()\n",
    "    #frame = cv2.resize(frame, (640, 360))\n",
    "    frame = cv2.flip(frame, 1)\n",
    "    gray = cv2.cvtColor(frame, cv2.COLOR_BGR2GRAY)\n",
    "    \n",
    "    canvas = detect(gray, frame)\n",
    "    cv2.imshow('Video', canvas)\n",
    "    \n",
    "    if cv2.waitKey(1) & 0xFF == ord('q'):\n",
    "        break\n",
    "video_capture.release()\n",
    "cv2.destroyAllWindows()"
   ]
  },
  {
   "cell_type": "code",
   "execution_count": null,
   "metadata": {},
   "outputs": [],
   "source": []
  }
 ],
 "metadata": {
  "kernelspec": {
   "display_name": "Python 3",
   "language": "python",
   "name": "python3"
  },
  "language_info": {
   "codemirror_mode": {
    "name": "ipython",
    "version": 3
   },
   "file_extension": ".py",
   "mimetype": "text/x-python",
   "name": "python",
   "nbconvert_exporter": "python",
   "pygments_lexer": "ipython3",
   "version": "3.6.5"
  },
  "toc": {
   "base_numbering": 1,
   "nav_menu": {},
   "number_sections": true,
   "sideBar": true,
   "skip_h1_title": false,
   "title_cell": "Table of Contents",
   "title_sidebar": "Contents",
   "toc_cell": false,
   "toc_position": {},
   "toc_section_display": true,
   "toc_window_display": false
  }
 },
 "nbformat": 4,
 "nbformat_minor": 2
}
