{
 "cells": [
  {
   "cell_type": "code",
   "execution_count": 1,
   "metadata": {},
   "outputs": [
    {
     "name": "stderr",
     "output_type": "stream",
     "text": [
      "/anaconda3/lib/python3.6/site-packages/h5py/__init__.py:36: FutureWarning: Conversion of the second argument of issubdtype from `float` to `np.floating` is deprecated. In future, it will be treated as `np.float64 == np.dtype(float).type`.\n",
      "  from ._conv import register_converters as _register_converters\n",
      "Using TensorFlow backend.\n"
     ]
    },
    {
     "data": {
      "text/plain": [
       "'2.1.5'"
      ]
     },
     "execution_count": 1,
     "metadata": {},
     "output_type": "execute_result"
    }
   ],
   "source": [
    "import numpy as np\n",
    "import pandas as pd\n",
    "import matplotlib.pyplot as plt\n",
    "%matplotlib inline\n",
    "import keras\n",
    "keras.__version__"
   ]
  },
  {
   "cell_type": "markdown",
   "metadata": {},
   "source": [
    "# prepare image dataset"
   ]
  },
  {
   "cell_type": "code",
   "execution_count": 2,
   "metadata": {},
   "outputs": [],
   "source": [
    "class Fer2013:\n",
    "\n",
    "        \n",
    "    def data_to_X_y(self):\n",
    "        self.data = np.genfromtxt('fer2013.csv', delimiter=',', dtype=None)\n",
    "        self.labels = self.data[1:,0].astype(np.int32) #[1:,0] - since [0:,0] would be with title of column\n",
    "        self.image_buffer = self.data[1:,1]\n",
    "        self.images = np.array([np.fromstring(image, np.float32, sep=' ') for image in self.image_buffer])\n",
    "        self.usage = self.data[1:,2]\n",
    "#         print(self.images.shape)\n",
    "        \n",
    "    def train_test_range(self):\n",
    "    \n",
    "        u = np.unique(self.usage)\n",
    "        X_pr_test = []\n",
    "        X_pu_test = []\n",
    "        X_train = []\n",
    "\n",
    "        for i in range(self.usage.shape[0]):\n",
    "            if self.usage[i]  ==  u[2]:\n",
    "                self.Training  = i\n",
    "            elif self.usage[i]  ==  u[1]:\n",
    "                self.PublicTest = i\n",
    "            elif self.usage[i]  ==  u[0]:\n",
    "                self.PrivateTest = i\n",
    "        print(\"Training: \", self.Training, \"PublicTest: \", self.PublicTest, \"PrivateTest: \", self.PrivateTest)\n",
    "#         return Training, PublicTest, PrivateTest\n",
    "    \n",
    "    def split_images(self, floor, roof):\n",
    "        return self.images[floor:roof,:].reshape(-1, 48,48)\n",
    "\n",
    "    def split_labels(self, floor, roof):\n",
    "        return self.labels[floor:roof]\n",
    "    \n",
    "    def load_data(self):\n",
    "        self.data_to_X_y()\n",
    "        self.train_test_range()\n",
    "#         print(self.images.shape)\n",
    "#         print(self.Training)\n",
    "        X_train = self.images[0:self.Training,:]#.reshape(-1, 48,48)\n",
    "#         print(X_train.shape)\n",
    "        X_train = self.split_images( 0, self.Training)\n",
    "        X_publicTest = self.split_images(self.Training+1, self.PublicTest)\n",
    "        X_privateTest = self.split_images(self.PublicTest+1, self.PrivateTest)\n",
    "        \n",
    "        y_train = self.split_labels(0, self.Training)\n",
    "        y_publicTest = self.split_labels(self.Training+1, self.PublicTest)\n",
    "        y_privateTest = self.split_labels(self.PublicTest+1, self.PrivateTest)\n",
    "        \n",
    "        return X_train, y_train, X_publicTest, y_publicTest, X_privateTest, y_privateTest"
   ]
  },
  {
   "cell_type": "code",
   "execution_count": 3,
   "metadata": {},
   "outputs": [],
   "source": [
    "fer2013 = Fer2013()"
   ]
  },
  {
   "cell_type": "code",
   "execution_count": 4,
   "metadata": {},
   "outputs": [
    {
     "name": "stderr",
     "output_type": "stream",
     "text": [
      "/anaconda3/lib/python3.6/site-packages/ipykernel_launcher.py:5: VisibleDeprecationWarning: Reading unicode strings without specifying the encoding argument is deprecated. Set the encoding, use None for the system default.\n",
      "  \"\"\"\n"
     ]
    },
    {
     "name": "stdout",
     "output_type": "stream",
     "text": [
      "Training:  28708 PublicTest:  32297 PrivateTest:  35886\n"
     ]
    }
   ],
   "source": [
    "X_train, y_train, X_publicTest, y_publicTest, X_privateTest, y_privateTest = fer2013.load_data() #, , y_privateTest, X_publicTest"
   ]
  },
  {
   "cell_type": "code",
   "execution_count": 5,
   "metadata": {
    "scrolled": true
   },
   "outputs": [
    {
     "name": "stdout",
     "output_type": "stream",
     "text": [
      "FEAR\n"
     ]
    }
   ],
   "source": [
    "moods = {\n",
    "    0: 'ANGRY',\n",
    "    1: 'DISGUST',\n",
    "    2: 'FEAR',\n",
    "    3: 'HAPPY',\n",
    "    4: 'SAD',\n",
    "    5: 'SURPRISE',\n",
    "    6: 'NEUTRAL'}\n",
    "moods = {\n",
    "    0: 'ANGRY',\n",
    "    1: 'FEAR',\n",
    "    2: 'HAPPY',\n",
    "    3: 'SAD',\n",
    "    4: 'SURPRISE',\n",
    "    5: 'NEUTRAL'}\n",
    "a = 1\n",
    "print(moods[a])"
   ]
  },
  {
   "cell_type": "code",
   "execution_count": 6,
   "metadata": {},
   "outputs": [],
   "source": [
    "def combine_anger_disgust(array):\n",
    "\n",
    "    for row in np.arange(len(array)):\n",
    "        if array[row] == 0:\n",
    "            array[row] = 1\n",
    "    return array -1\n"
   ]
  },
  {
   "cell_type": "code",
   "execution_count": 7,
   "metadata": {},
   "outputs": [],
   "source": [
    "y_train = combine_anger_disgust(y_train)\n",
    "y_publicTest = combine_anger_disgust(y_publicTest)\n",
    "y_privateTest = combine_anger_disgust(y_privateTest)"
   ]
  },
  {
   "cell_type": "code",
   "execution_count": 8,
   "metadata": {
    "scrolled": true
   },
   "outputs": [
    {
     "data": {
      "text/plain": [
       "Text(0.5,1,'HAPPY')"
      ]
     },
     "execution_count": 8,
     "metadata": {},
     "output_type": "execute_result"
    },
    {
     "data": {
      "image/png": "[encoded data removed]",
      "text/plain": [
       "<Figure size 432x288 with 1 Axes>"
      ]
     },
     "metadata": {},
     "output_type": "display_data"
    }
   ],
   "source": [
    "plt.imshow(X_train[1020], cmap = 'gray')\n",
    "plt.title(moods[y_train[1020]])"
   ]
  },
  {
   "cell_type": "code",
   "execution_count": 9,
   "metadata": {
    "scrolled": true
   },
   "outputs": [
    {
     "data": {
      "text/plain": [
       "Text(0.5,1,'NEUTRAL')"
      ]
     },
     "execution_count": 9,
     "metadata": {},
     "output_type": "execute_result"
    },
    {
     "data": {
      "image/png": "[encoded data removed]",
      "text/plain": [
       "<Figure size 432x288 with 1 Axes>"
      ]
     },
     "metadata": {},
     "output_type": "display_data"
    }
   ],
   "source": [
    "plt.imshow(X_privateTest[1019], cmap = 'gray')\n",
    "plt.title(moods[y_privateTest[1019]])"
   ]
  },
  {
   "cell_type": "code",
   "execution_count": 10,
   "metadata": {},
   "outputs": [
    {
     "data": {
      "text/plain": [
       "Text(0.5,1,'ANGRY')"
      ]
     },
     "execution_count": 10,
     "metadata": {},
     "output_type": "execute_result"
    },
    {
     "data": {
      "image/png": "[encoded data removed]",
      "text/plain": [
       "<Figure size 432x288 with 1 Axes>"
      ]
     },
     "metadata": {},
     "output_type": "display_data"
    }
   ],
   "source": [
    "plt.imshow(X_publicTest[1021], cmap = 'gray')\n",
    "plt.title(moods[y_publicTest[1021]])"
   ]
  },
  {
   "cell_type": "code",
   "execution_count": 11,
   "metadata": {},
   "outputs": [],
   "source": [
    "X_train = X_train.reshape(-1, 48, 48, 1).astype('float32')/255.0\n",
    "X_privateTest = X_privateTest.reshape(-1, 48, 48, 1).astype('float32')/255.0\n",
    "X_publicTest = X_publicTest.reshape(-1, 48, 48, 1).astype('float32')/255.0\n",
    "\n",
    "\n",
    "from keras.utils.np_utils import to_categorical\n",
    "y_train_cat = to_categorical(y_train)\n",
    "y_privateTest_cat = to_categorical(y_privateTest)\n",
    "y_publicTest_cat = to_categorical(y_publicTest)\n"
   ]
  },
  {
   "cell_type": "markdown",
   "metadata": {},
   "source": [
    "# BUILD MODEL"
   ]
  },
  {
   "cell_type": "code",
   "execution_count": null,
   "metadata": {},
   "outputs": [],
   "source": [
    "from keras.models import Sequential\n",
    "from keras.layers.normalization import BatchNormalization\n",
    "from keras.layers.convolutional import Conv2D\n",
    "from keras.layers.convolutional import MaxPooling2D\n",
    "from keras.layers.advanced_activations import ELU\n",
    "from keras.layers.core import Activation\n",
    "from keras.layers.core import Flatten\n",
    "from keras.layers.core import Dropout\n",
    "from keras.layers.core import Dense\n",
    "from keras import backend as K\n",
    "from keras import optimizers\n",
    "from keras.callbacks import ModelCheckpoint"
   ]
  },
  {
   "cell_type": "code",
   "execution_count": null,
   "metadata": {},
   "outputs": [],
   "source": [
    "checkpointer = ModelCheckpoint(filepath=\"weights.hdf5\",\n",
    "                               verbose=1, save_best_only=True)"
   ]
  },
  {
   "cell_type": "code",
   "execution_count": null,
   "metadata": {},
   "outputs": [],
   "source": [
    "model = Sequential()\n",
    "inputShape = (48, 48, 1)\n",
    "chanDim = -1\n",
    "\n",
    "# if we are using \"channels first\", update the input shape\n",
    "# and channels dimension\n",
    "if K.image_data_format() == \"channels_first\":\n",
    "    inputShape = (48, 48, 1)\n",
    "    chanDim = 1\n",
    "\n",
    "# Block #1: first CONV => RELU => CONV => RELU => POOL\n",
    "# layer set\n",
    "model.add(Conv2D(32, (3, 3), padding=\"same\",\n",
    "    kernel_initializer=\"he_normal\", input_shape=inputShape))\n",
    "model.add(ELU())\n",
    "model.add(BatchNormalization(axis=chanDim))\n",
    "model.add(Conv2D(32, (3, 3), kernel_initializer=\"he_normal\",\n",
    "padding=\"same\"))\n",
    "model.add(ELU())\n",
    "model.add(BatchNormalization(axis=chanDim))\n",
    "model.add(MaxPooling2D(pool_size=(2, 2)))\n",
    "model.add(Dropout(0.25))\n",
    "\n",
    "# Block #2: second CONV => RELU => CONV => RELU => POOL\n",
    "# layer set\n",
    "model.add(Conv2D(64, (3, 3), kernel_initializer=\"he_normal\",\n",
    "    padding=\"same\"))\n",
    "model.add(ELU())\n",
    "model.add(BatchNormalization(axis=chanDim))\n",
    "model.add(Conv2D(64, (3, 3), kernel_initializer=\"he_normal\",\n",
    "    padding=\"same\"))\n",
    "model.add(ELU())\n",
    "model.add(BatchNormalization(axis=chanDim))\n",
    "model.add(MaxPooling2D(pool_size=(2, 2)))\n",
    "model.add(Dropout(0.25))\n",
    "\n",
    "# Block #3: third CONV => RELU => CONV => RELU => POOL\n",
    "# layer set\n",
    "model.add(Conv2D(128, (3, 3), kernel_initializer=\"he_normal\",\n",
    "    padding=\"same\"))\n",
    "model.add(ELU())\n",
    "model.add(BatchNormalization(axis=chanDim))\n",
    "model.add(Conv2D(128, (3, 3), kernel_initializer=\"he_normal\",\n",
    "    padding=\"same\"))\n",
    "model.add(ELU())\n",
    "model.add(BatchNormalization(axis=chanDim))\n",
    "model.add(MaxPooling2D(pool_size=(2, 2)))\n",
    "model.add(Dropout(0.25))\n",
    "\n",
    "    # Block #4: first set of FC => RELU layers\n",
    "model.add(Flatten())\n",
    "model.add(Dense(64, kernel_initializer=\"he_normal\"))\n",
    "model.add(ELU())\n",
    "model.add(BatchNormalization())\n",
    "model.add(Dropout(0.5))\n",
    "\n",
    "    # Block #6: second set of FC => RELU layers\n",
    "model.add(Dense(64, kernel_initializer=\"he_normal\"))\n",
    "model.add(ELU())\n",
    "model.add(BatchNormalization())\n",
    "model.add(Dropout(0.5))\n",
    "\n",
    "    # Block #7: softmax classifier\n",
    "model.add(Dense(6, kernel_initializer=\"he_normal\"))\n",
    "model.add(Activation(\"softmax\"))\n",
    "\n",
    "opt = optimizers.Adam(lr=1e-3)\n",
    "\n",
    "hist = model.compile(loss=\"categorical_crossentropy\", optimizer=opt, metrics=[\"accuracy\"])"
   ]
  },
  {
   "cell_type": "code",
   "execution_count": null,
   "metadata": {},
   "outputs": [],
   "source": [
    "# callbacks=callbacks, verbose=1\n",
    "hist = model.fit(X_train, y_train_cat, callbacks=[checkpointer], batch_size=128, epochs = 40, verbose=1, validation_data= (X_publicTest, y_publicTest_cat) )"
   ]
  },
  {
   "cell_type": "code",
   "execution_count": null,
   "metadata": {},
   "outputs": [],
   "source": [
    "test_accuracy = model.evaluate(X_privateTest, y_privateTest_cat)[1]\n",
    "test_accuracy"
   ]
  },
  {
   "cell_type": "code",
   "execution_count": null,
   "metadata": {},
   "outputs": [],
   "source": [
    "model.save('emotion_model.h5')"
   ]
  },
  {
   "cell_type": "code",
   "execution_count": null,
   "metadata": {},
   "outputs": [],
   "source": [
    "plt.style.use('ggplot')\n",
    "plt.plot(hist.history['acc'])\n",
    "plt.plot(hist.history['val_acc'])\n",
    "plt.legend(['Trainig', 'Testing'])\n",
    "plt.title('Accuracy')\n",
    "plt.xlabel('Epochs')"
   ]
  }
 ],
 "metadata": {
  "kernelspec": {
   "display_name": "Python 3",
   "language": "python",
   "name": "python3"
  },
  "language_info": {
   "codemirror_mode": {
    "name": "ipython",
    "version": 3
   },
   "file_extension": ".py",
   "mimetype": "text/x-python",
   "name": "python",
   "nbconvert_exporter": "python",
   "pygments_lexer": "ipython3",
   "version": "3.6.5"
  }
 },
 "nbformat": 4,
 "nbformat_minor": 2
}
